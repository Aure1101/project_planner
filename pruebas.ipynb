{
 "cells": [
  {
   "cell_type": "code",
   "execution_count": 7,
   "metadata": {},
   "outputs": [],
   "source": [
    "import tkinter as tk\n",
    "from tkinter import Menu, simpledialog, messagebox\n",
    "import pandas as pd\n",
    "import os.path\n",
    "import data_manager as dm\n",
    "from gantt_view import Gantt"
   ]
  },
  {
   "cell_type": "code",
   "execution_count": 8,
   "metadata": {},
   "outputs": [],
   "source": [
    "parent = Gantt"
   ]
  },
  {
   "cell_type": "code",
   "execution_count": 9,
   "metadata": {},
   "outputs": [],
   "source": [
    "\n",
    "def agregar_actividad(parent, act_nombre, act_responsable, t_esperado, t_optimista, t_m_probable, t_pesimista, t_acelerado, c_esperado, c_acelerado, dependencias, actividades):\n",
    "    dependen = []\n",
    "    for i, not_checked in enumerate(dependencias):\n",
    "        if not not_checked:\n",
    "            dependen.append(actividades[i])\n",
    "        \n",
    "    dm.create_act(act_nombre, act_responsable, t_esperado, t_optimista, t_m_probable, t_pesimista, t_acelerado, c_esperado, c_acelerado, dependen)\n",
    "    parent.refresh_activities()\n"
   ]
  },
  {
   "cell_type": "code",
   "execution_count": 10,
   "metadata": {},
   "outputs": [
    {
     "ename": "NameError",
     "evalue": "name 'act_nombre' is not defined",
     "output_type": "error",
     "traceback": [
      "\u001b[1;31m---------------------------------------------------------------------------\u001b[0m",
      "\u001b[1;31mNameError\u001b[0m                                 Traceback (most recent call last)",
      "Cell \u001b[1;32mIn[10], line 1\u001b[0m\n\u001b[1;32m----> 1\u001b[0m agregar_actividad(parent, \u001b[43mact_nombre\u001b[49m\u001b[38;5;241m.\u001b[39mget(), act_responsable\u001b[38;5;241m.\u001b[39mget(), t_esperado\u001b[38;5;241m.\u001b[39mget(), t_optimista\u001b[38;5;241m.\u001b[39mget(), t_m_probable\u001b[38;5;241m.\u001b[39mget(), t_pesimista\u001b[38;5;241m.\u001b[39mget(), t_acelerado\u001b[38;5;241m.\u001b[39mget(), c_esperado\u001b[38;5;241m.\u001b[39mget(), c_acelerado\u001b[38;5;241m.\u001b[39mget(), \u001b[38;5;28mlist\u001b[39m(\u001b[38;5;28mmap\u001b[39m(\u001b[38;5;28;01mlambda\u001b[39;00m x: x\u001b[38;5;241m.\u001b[39mget() \u001b[38;5;241m==\u001b[39m \u001b[38;5;124m'\u001b[39m\u001b[38;5;124m'\u001b[39m, d_variables)), actividades)\n",
      "\u001b[1;31mNameError\u001b[0m: name 'act_nombre' is not defined"
     ]
    }
   ],
   "source": [
    "agregar_actividad(parent, act_nombre.get(), act_responsable.get(), t_esperado.get(), t_optimista.get(), t_m_probable.get(), t_pesimista.get(), t_acelerado.get(), c_esperado.get(), c_acelerado.get(), list(map(lambda x: x.get() == '', d_variables)), actividades)\n",
    "    "
   ]
  },
  {
   "cell_type": "markdown",
   "metadata": {},
   "source": []
  }
 ],
 "metadata": {
  "kernelspec": {
   "display_name": "Python 3",
   "language": "python",
   "name": "python3"
  },
  "language_info": {
   "codemirror_mode": {
    "name": "ipython",
    "version": 3
   },
   "file_extension": ".py",
   "mimetype": "text/x-python",
   "name": "python",
   "nbconvert_exporter": "python",
   "pygments_lexer": "ipython3",
   "version": "3.12.2"
  }
 },
 "nbformat": 4,
 "nbformat_minor": 2
}
